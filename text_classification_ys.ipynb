{
 "cells": [
  {
   "cell_type": "code",
   "execution_count": null,
   "id": "0b6d2ead",
   "metadata": {
    "scrolled": true
   },
   "outputs": [],
   "source": [
    "# !pip install pandas\n",
    "# !pip install gensim\n",
    "# !pip install nltk\n",
    "# !pip install num2words\n",
    "# !pip install symspellpy\n",
    "# nltk.download('punkt')\n",
    "# !pip install inflect\n",
    "# !pip install seaborn"
   ]
  },
  {
   "cell_type": "code",
   "execution_count": 1,
   "id": "57d1267c",
   "metadata": {
    "scrolled": true
   },
   "outputs": [],
   "source": [
    "import warnings\n",
    "warnings.filterwarnings(\"ignore\", category=DeprecationWarning)"
   ]
  },
  {
   "cell_type": "code",
   "execution_count": 2,
   "id": "73252fc8",
   "metadata": {
    "scrolled": true
   },
   "outputs": [],
   "source": [
    "import pandas as pd\n",
    "import pkg_resources\n",
    "import pandas as pd\n",
    "import os\n",
    "import numpy as np\n",
    "import seaborn as sns\n",
    "import matplotlib.pyplot as plt\n",
    "from decimal import Decimal\n",
    "from sklearn.model_selection import train_test_split\n",
    "from sklearn.metrics import accuracy_score,confusion_matrix"
   ]
  },
  {
   "cell_type": "code",
   "execution_count": 3,
   "id": "195cf761",
   "metadata": {},
   "outputs": [],
   "source": [
    "# # !pip install fasttext\n",
    "import fasttext"
   ]
  },
  {
   "cell_type": "code",
   "execution_count": 4,
   "id": "508480bb",
   "metadata": {},
   "outputs": [],
   "source": [
    "df = pd.read_csv('preprocessed.csv')"
   ]
  },
  {
   "cell_type": "markdown",
   "id": "ea1105be",
   "metadata": {},
   "source": [
    "# Word embedding using Fast Text."
   ]
  },
  {
   "cell_type": "markdown",
   "id": "c85c5125",
   "metadata": {},
   "source": [
    "I selected FastText is faster than word2vec and GloVe for training on large corpora because it uses a hierarchical softmax approach that reduces the complexity of the training process.\n",
    "\n",
    "You may download the file here https://fasttext.cc/docs/en/crawl-vectors.html"
   ]
  },
  {
   "cell_type": "code",
   "execution_count": null,
   "id": "eccdc0b3",
   "metadata": {},
   "outputs": [],
   "source": [
    "# Unzip\n",
    "!gunzip cc.es.300.bin.gz"
   ]
  },
  {
   "cell_type": "code",
   "execution_count": 5,
   "id": "a05d99c8",
   "metadata": {},
   "outputs": [
    {
     "name": "stderr",
     "output_type": "stream",
     "text": [
      "Warning : `load_model` does not return WordVectorModel or SupervisedModel any more, but a `FastText` object which is very similar.\n"
     ]
    }
   ],
   "source": [
    "model = fasttext.load_model('cc.es.300.bin')"
   ]
  },
  {
   "cell_type": "code",
   "execution_count": 6,
   "id": "2cd17a17",
   "metadata": {},
   "outputs": [],
   "source": [
    "def get_text_vector(sentence):\n",
    "    return model.get_sentence_vector(sentence)"
   ]
  },
  {
   "cell_type": "code",
   "execution_count": 7,
   "id": "b3861da6",
   "metadata": {},
   "outputs": [],
   "source": [
    "df['text_vectors'] = df['text'].apply(get_text_vector)"
   ]
  },
  {
   "cell_type": "code",
   "execution_count": 8,
   "id": "07057cb5",
   "metadata": {},
   "outputs": [
    {
     "data": {
      "text/html": [
       "<div>\n",
       "<style scoped>\n",
       "    .dataframe tbody tr th:only-of-type {\n",
       "        vertical-align: middle;\n",
       "    }\n",
       "\n",
       "    .dataframe tbody tr th {\n",
       "        vertical-align: top;\n",
       "    }\n",
       "\n",
       "    .dataframe thead th {\n",
       "        text-align: right;\n",
       "    }\n",
       "</style>\n",
       "<table border=\"1\" class=\"dataframe\">\n",
       "  <thead>\n",
       "    <tr style=\"text-align: right;\">\n",
       "      <th></th>\n",
       "      <th>text</th>\n",
       "      <th>class</th>\n",
       "      <th>char_length</th>\n",
       "      <th>token_length</th>\n",
       "      <th>text_vectors</th>\n",
       "    </tr>\n",
       "  </thead>\n",
       "  <tbody>\n",
       "    <tr>\n",
       "      <th>2</th>\n",
       "      <td>finally thousand hear thousand bad year swear ...</td>\n",
       "      <td>0</td>\n",
       "      <td>66</td>\n",
       "      <td>10</td>\n",
       "      <td>[0.0036457763, 0.0013083905, 0.05972732, 0.079...</td>\n",
       "    </tr>\n",
       "    <tr>\n",
       "      <th>3</th>\n",
       "      <td>need help help hard</td>\n",
       "      <td>1</td>\n",
       "      <td>33</td>\n",
       "      <td>6</td>\n",
       "      <td>[-0.04169218, -0.02779561, 0.084972635, 0.0743...</td>\n",
       "    </tr>\n",
       "  </tbody>\n",
       "</table>\n",
       "</div>"
      ],
      "text/plain": [
       "                                                text  class  char_length  \\\n",
       "2  finally thousand hear thousand bad year swear ...      0           66   \n",
       "3                                need help help hard      1           33   \n",
       "\n",
       "   token_length                                       text_vectors  \n",
       "2            10  [0.0036457763, 0.0013083905, 0.05972732, 0.079...  \n",
       "3             6  [-0.04169218, -0.02779561, 0.084972635, 0.0743...  "
      ]
     },
     "execution_count": 8,
     "metadata": {},
     "output_type": "execute_result"
    }
   ],
   "source": [
    "df.iloc[2:4]"
   ]
  },
  {
   "cell_type": "code",
   "execution_count": 9,
   "id": "b9a629f0",
   "metadata": {},
   "outputs": [],
   "source": [
    "X = df['text_vectors']\n",
    "y = df['class']"
   ]
  },
  {
   "cell_type": "markdown",
   "id": "2b276d66",
   "metadata": {},
   "source": [
    "# Let's use Naive Bayes as our baseline model given its simplicity, before we try something more complex."
   ]
  },
  {
   "cell_type": "markdown",
   "id": "1453f431",
   "metadata": {},
   "source": [
    "# 1) Naive Bayes"
   ]
  },
  {
   "cell_type": "code",
   "execution_count": 10,
   "id": "601f329c",
   "metadata": {},
   "outputs": [],
   "source": [
    "X_train, X_test, y_train, y_test = train_test_split(X, y, test_size=0.2, random_state=0)"
   ]
  },
  {
   "cell_type": "code",
   "execution_count": 11,
   "id": "e06c9b49",
   "metadata": {},
   "outputs": [],
   "source": [
    "from sklearn.naive_bayes import GaussianNB"
   ]
  },
  {
   "cell_type": "code",
   "execution_count": 12,
   "id": "6c43f32e",
   "metadata": {},
   "outputs": [
    {
     "data": {
      "text/plain": [
       "GaussianNB()"
      ]
     },
     "execution_count": 12,
     "metadata": {},
     "output_type": "execute_result"
    }
   ],
   "source": [
    "clf = GaussianNB()\n",
    "clf.fit(list(X_train),y_train)"
   ]
  },
  {
   "cell_type": "code",
   "execution_count": 13,
   "id": "8342abda",
   "metadata": {},
   "outputs": [
    {
     "name": "stdout",
     "output_type": "stream",
     "text": [
      " Accuracy 0.7918\n",
      " Precision 0.7576 \n",
      " Recall 0.8603 \n",
      " F1 0.8057\n"
     ]
    }
   ],
   "source": [
    "y_pred = clf.predict(list(X_test))\n",
    "#Confusion Matrix\n",
    "clf_tn, clf_fp, clf_fn, clf_tp = confusion_matrix(y_test, y_pred).ravel()\n",
    "#measurements\n",
    "clf_accuracy = (clf_tp+clf_tn)/(clf_tp+clf_tn+clf_fp+clf_fn)\n",
    "print(\" Accuracy\", round(clf_accuracy,4))\n",
    "clf_precision = clf_tp/(clf_tp+clf_fp)\n",
    "clf_recall = clf_tp/(clf_tp+clf_fn)\n",
    "clf_f1_score = (2*clf_precision)*(clf_recall)/(clf_precision+clf_recall)\n",
    "print(\" Precision\",round(clf_precision,4),\"\\n\",\"Recall\",round(clf_recall,4),\"\\n\",\"F1\",round(clf_f1_score,4))"
   ]
  },
  {
   "cell_type": "markdown",
   "id": "b12f0aa7",
   "metadata": {},
   "source": [
    "Our model performs decently well. Let's try other models."
   ]
  },
  {
   "cell_type": "markdown",
   "id": "48368e2b",
   "metadata": {
    "scrolled": true
   },
   "source": [
    "# Let us see if our datapoints are linearly separable. If there is a line that can seperate the data points, then it is linear"
   ]
  },
  {
   "cell_type": "markdown",
   "id": "9b9dc0e2",
   "metadata": {},
   "source": [
    "We will be using Support Vector Machines to check.\n",
    "If accuracy is 100% means it is lienarly seperable. Else, it is not."
   ]
  },
  {
   "cell_type": "markdown",
   "id": "72f26665",
   "metadata": {},
   "source": [
    "# 2) LinearSVC"
   ]
  },
  {
   "cell_type": "code",
   "execution_count": 14,
   "id": "d2821e9d",
   "metadata": {},
   "outputs": [],
   "source": [
    "from sklearn.svm import LinearSVC"
   ]
  },
  {
   "cell_type": "code",
   "execution_count": 20,
   "id": "5fa9b2f8",
   "metadata": {},
   "outputs": [
    {
     "name": "stdout",
     "output_type": "stream",
     "text": [
      "Based on training\n",
      "0.8958408543517735\n",
      "The dataset might not linearly separable.\n"
     ]
    }
   ],
   "source": [
    "svm = LinearSVC(random_state=0)\n",
    "svm.fit(list(X_train), y_train)\n",
    "accuracy = svm.score(list(X_train), y_train)\n",
    "# Check if the dataset is linearly separable (training)\n",
    "print(\"Based on training\")\n",
    "if accuracy == 1.0:\n",
    "    print(\"The dataset is linearly separable.\")\n",
    "else:\n",
    "    print(accuracy)\n",
    "    print(\"The dataset might not linearly separable.\")"
   ]
  },
  {
   "cell_type": "code",
   "execution_count": 21,
   "id": "ba9308ef",
   "metadata": {},
   "outputs": [
    {
     "name": "stdout",
     "output_type": "stream",
     "text": [
      "Test on test data\n",
      "0.8933574723048407\n",
      "Not linearly separable.\n"
     ]
    }
   ],
   "source": [
    "accuracy = svm.score(list(X_test), y_test)\n",
    "print(\"Test on test data\")\n",
    "if accuracy == 1.0:\n",
    "    print(\"Linearly separable.\")\n",
    "else:\n",
    "    print(accuracy)\n",
    "    print(\"Not linearly separable.\")"
   ]
  },
  {
   "cell_type": "code",
   "execution_count": 22,
   "id": "38b0ee73",
   "metadata": {},
   "outputs": [
    {
     "name": "stdout",
     "output_type": "stream",
     "text": [
      " Accuracy 0.8934\n",
      " Precision 0.8776 \n",
      " Recall 0.9151 \n",
      " F1 0.896\n"
     ]
    }
   ],
   "source": [
    "y_pred = svm.predict(list(X_test))\n",
    "#Confusion Matrix\n",
    "clf_tn, clf_fp, clf_fn, clf_tp = confusion_matrix(y_test, y_pred).ravel()\n",
    "#measurements\n",
    "clf_accuracy = (clf_tp+clf_tn)/(clf_tp+clf_tn+clf_fp+clf_fn)\n",
    "print(\" Accuracy\", round(clf_accuracy,4))\n",
    "clf_precision = clf_tp/(clf_tp+clf_fp)\n",
    "clf_recall = clf_tp/(clf_tp+clf_fn)\n",
    "clf_f1_score = (2*clf_precision)*(clf_recall)/(clf_precision+clf_recall)\n",
    "print(\" Precision\",round(clf_precision,4),\"\\n\",\"Recall\",round(clf_recall,4),\"\\n\",\"F1\",round(clf_f1_score,4))"
   ]
  },
  {
   "cell_type": "markdown",
   "id": "6868e7de",
   "metadata": {},
   "source": [
    "We can note that LinearSVC still perform decently though. Try to finetune it."
   ]
  },
  {
   "cell_type": "code",
   "execution_count": 107,
   "id": "f4b81513",
   "metadata": {},
   "outputs": [],
   "source": [
    "from sklearn.model_selection import RandomizedSearchCV"
   ]
  },
  {
   "cell_type": "code",
   "execution_count": 108,
   "id": "e411f3b3",
   "metadata": {},
   "outputs": [],
   "source": [
    "param_grid = {'C': [0.01, 0.1, 1, 1000,10000,100000]}\n",
    "clf=LinearSVC(random_state=0)\n",
    "clf = RandomizedSearchCV(clf, param_grid, random_state=0, cv=5,n_jobs=-1)"
   ]
  },
  {
   "cell_type": "code",
   "execution_count": 109,
   "id": "6df64af7",
   "metadata": {},
   "outputs": [
    {
     "name": "stderr",
     "output_type": "stream",
     "text": [
      "/common/home/projectgrps/IS424/IS424G10/jupyterlab-venv-tf/lib/python3.7/site-packages/sklearn/model_selection/_search.py:296: UserWarning: The total space of parameters 6 is smaller than n_iter=10. Running 6 iterations. For exhaustive searches, use GridSearchCV.\n",
      "  UserWarning,\n"
     ]
    },
    {
     "data": {
      "text/plain": [
       "RandomizedSearchCV(cv=5, estimator=LinearSVC(random_state=0), n_jobs=-1,\n",
       "                   param_distributions={'C': [0.01, 0.1, 1, 1000, 10000,\n",
       "                                              100000]},\n",
       "                   random_state=0)"
      ]
     },
     "execution_count": 109,
     "metadata": {},
     "output_type": "execute_result"
    }
   ],
   "source": [
    "clf.fit(list(X_train),y_train)"
   ]
  },
  {
   "cell_type": "code",
   "execution_count": 111,
   "id": "7b9c04ce",
   "metadata": {},
   "outputs": [
    {
     "data": {
      "text/plain": [
       "{'C': 1}"
      ]
     },
     "execution_count": 111,
     "metadata": {},
     "output_type": "execute_result"
    }
   ],
   "source": [
    "clf.best_params_"
   ]
  },
  {
   "cell_type": "code",
   "execution_count": 18,
   "id": "eefe4384",
   "metadata": {},
   "outputs": [
    {
     "data": {
      "text/plain": [
       "LinearSVC(C=1, random_state=0)"
      ]
     },
     "execution_count": 18,
     "metadata": {},
     "output_type": "execute_result"
    }
   ],
   "source": [
    "svm = LinearSVC(C=1, random_state=0)\n",
    "svm.fit(list(X_train), y_train)"
   ]
  },
  {
   "cell_type": "code",
   "execution_count": 23,
   "id": "ab4f3345",
   "metadata": {},
   "outputs": [
    {
     "name": "stdout",
     "output_type": "stream",
     "text": [
      " Accuracy 0.8934\n",
      " Precision 0.8776 \n",
      " Recall 0.9151 \n",
      " F1 0.896\n"
     ]
    }
   ],
   "source": [
    "y_pred = svm.predict(list(X_test))\n",
    "#Confusion Matrix\n",
    "clf_tn, clf_fp, clf_fn, clf_tp = confusion_matrix(y_test, y_pred).ravel()\n",
    "#measurements\n",
    "clf_accuracy = (clf_tp+clf_tn)/(clf_tp+clf_tn+clf_fp+clf_fn)\n",
    "print(\" Accuracy\", round(clf_accuracy,4))\n",
    "clf_precision = clf_tp/(clf_tp+clf_fp)\n",
    "clf_recall = clf_tp/(clf_tp+clf_fn)\n",
    "clf_f1_score = (2*clf_precision)*(clf_recall)/(clf_precision+clf_recall)\n",
    "print(\" Precision\",round(clf_precision,4),\"\\n\",\"Recall\",round(clf_recall,4),\"\\n\",\"F1\",round(clf_f1_score,4))"
   ]
  },
  {
   "cell_type": "markdown",
   "id": "70edc4bf",
   "metadata": {},
   "source": [
    "No difference after tuning"
   ]
  },
  {
   "cell_type": "markdown",
   "id": "28e41304",
   "metadata": {},
   "source": [
    "# Since we used a linear classifier, fine-tuned and still can't achieve 100%, there is a high chance that it is a Non-Linear Problem, hence we will explore using Non-Linear models"
   ]
  },
  {
   "cell_type": "markdown",
   "id": "ed10e401",
   "metadata": {},
   "source": [
    "# 3) Decision Tree"
   ]
  },
  {
   "cell_type": "code",
   "execution_count": 24,
   "id": "46c6a5e3",
   "metadata": {},
   "outputs": [],
   "source": [
    "from sklearn.tree import DecisionTreeClassifier"
   ]
  },
  {
   "cell_type": "code",
   "execution_count": 25,
   "id": "29969012",
   "metadata": {},
   "outputs": [],
   "source": [
    "clf = DecisionTreeClassifier(random_state=0,max_depth=3)"
   ]
  },
  {
   "cell_type": "code",
   "execution_count": 26,
   "id": "92e31ce9",
   "metadata": {},
   "outputs": [
    {
     "data": {
      "text/plain": [
       "DecisionTreeClassifier(max_depth=3, random_state=0)"
      ]
     },
     "execution_count": 26,
     "metadata": {},
     "output_type": "execute_result"
    }
   ],
   "source": [
    "clf.fit(list(X_train),y_train)"
   ]
  },
  {
   "cell_type": "code",
   "execution_count": 27,
   "id": "ae65d461",
   "metadata": {},
   "outputs": [
    {
     "name": "stdout",
     "output_type": "stream",
     "text": [
      " Accuracy 0.7899\n",
      " Precision 0.8265 \n",
      " Recall 0.7357 \n",
      " F1 0.7785\n"
     ]
    }
   ],
   "source": [
    "y_pred = clf.predict(list(X_test))\n",
    "#Confusion Matrix\n",
    "clf_tn, clf_fp, clf_fn, clf_tp = confusion_matrix(y_test, y_pred).ravel()\n",
    "#measurements\n",
    "clf_accuracy = (clf_tp+clf_tn)/(clf_tp+clf_tn+clf_fp+clf_fn)\n",
    "print(\" Accuracy\", round(clf_accuracy,4))\n",
    "clf_precision = clf_tp/(clf_tp+clf_fp)\n",
    "clf_recall = clf_tp/(clf_tp+clf_fn)\n",
    "clf_f1_score = (2*clf_precision)*(clf_recall)/(clf_precision+clf_recall)\n",
    "print(\" Precision\",round(clf_precision,4),\"\\n\",\"Recall\",round(clf_recall,4),\"\\n\",\"F1\",round(clf_f1_score,4))"
   ]
  },
  {
   "cell_type": "markdown",
   "id": "2e860da7",
   "metadata": {},
   "source": [
    "Try to tune Decision Tree"
   ]
  },
  {
   "cell_type": "code",
   "execution_count": 28,
   "id": "87b3a815",
   "metadata": {},
   "outputs": [],
   "source": [
    "from sklearn.model_selection import RandomizedSearchCV\n",
    "#GridSearch Takes Too Long"
   ]
  },
  {
   "cell_type": "code",
   "execution_count": 29,
   "id": "d5d646f5",
   "metadata": {},
   "outputs": [],
   "source": [
    "param_grid = {'max_depth': [3,5,7],'min_samples_split': [2, 4, 6], 'min_samples_leaf': [1, 2, 3]}\n",
    "gs_clf=DecisionTreeClassifier(random_state=0)\n",
    "clf = RandomizedSearchCV(gs_clf, param_grid, random_state=0, cv=5,n_jobs=-1)"
   ]
  },
  {
   "cell_type": "code",
   "execution_count": 30,
   "id": "cc2de1f1",
   "metadata": {},
   "outputs": [
    {
     "data": {
      "text/plain": [
       "RandomizedSearchCV(cv=5, estimator=DecisionTreeClassifier(random_state=0),\n",
       "                   n_jobs=-1,\n",
       "                   param_distributions={'max_depth': [3, 5, 7],\n",
       "                                        'min_samples_leaf': [1, 2, 3],\n",
       "                                        'min_samples_split': [2, 4, 6]},\n",
       "                   random_state=0)"
      ]
     },
     "execution_count": 30,
     "metadata": {},
     "output_type": "execute_result"
    }
   ],
   "source": [
    "clf.fit(list(X_train),y_train)"
   ]
  },
  {
   "cell_type": "code",
   "execution_count": 31,
   "id": "8a0f07e8",
   "metadata": {},
   "outputs": [
    {
     "data": {
      "text/plain": [
       "{'min_samples_split': 4, 'min_samples_leaf': 1, 'max_depth': 7}"
      ]
     },
     "execution_count": 31,
     "metadata": {},
     "output_type": "execute_result"
    }
   ],
   "source": [
    "clf.best_params_"
   ]
  },
  {
   "cell_type": "code",
   "execution_count": 35,
   "id": "633c7a32",
   "metadata": {},
   "outputs": [
    {
     "name": "stdout",
     "output_type": "stream",
     "text": [
      " Accuracy 0.8395\n",
      " Precision 0.8487 \n",
      " Recall 0.8278 \n",
      " F1 0.8381\n"
     ]
    }
   ],
   "source": [
    "clf = DecisionTreeClassifier(random_state=0,max_depth=7,min_samples_split= 4, min_samples_leaf=1)\n",
    "clf.fit(list(X_train),y_train)\n",
    "y_pred = clf.predict(list(X_test))\n",
    "#Confusion Matrix\n",
    "clf_tn, clf_fp, clf_fn, clf_tp = confusion_matrix(y_test, y_pred).ravel()\n",
    "#measurements\n",
    "clf_accuracy = (clf_tp+clf_tn)/(clf_tp+clf_tn+clf_fp+clf_fn)\n",
    "print(\" Accuracy\", round(clf_accuracy,4))\n",
    "clf_precision = clf_tp/(clf_tp+clf_fp)\n",
    "clf_recall = clf_tp/(clf_tp+clf_fn)\n",
    "clf_f1_score = (2*clf_precision)*(clf_recall)/(clf_precision+clf_recall)\n",
    "print(\" Precision\",round(clf_precision,4),\"\\n\",\"Recall\",round(clf_recall,4),\"\\n\",\"F1\",round(clf_f1_score,4))"
   ]
  },
  {
   "cell_type": "markdown",
   "id": "9db17ce2",
   "metadata": {},
   "source": [
    "# 4) Random Forest"
   ]
  },
  {
   "cell_type": "code",
   "execution_count": 36,
   "id": "f60ef368",
   "metadata": {},
   "outputs": [],
   "source": [
    "from sklearn.ensemble import RandomForestClassifier"
   ]
  },
  {
   "cell_type": "markdown",
   "id": "220c4756",
   "metadata": {},
   "source": [
    "Using knowledge from decision trees, lets use the same params"
   ]
  },
  {
   "cell_type": "code",
   "execution_count": 37,
   "id": "e9b8f2ac",
   "metadata": {},
   "outputs": [],
   "source": [
    "clf = RandomForestClassifier(max_depth=7,min_samples_split= 4, min_samples_leaf=1, random_state=0)"
   ]
  },
  {
   "cell_type": "code",
   "execution_count": 38,
   "id": "beabedea",
   "metadata": {},
   "outputs": [
    {
     "data": {
      "text/plain": [
       "RandomForestClassifier(max_depth=7, min_samples_split=4, random_state=0)"
      ]
     },
     "execution_count": 38,
     "metadata": {},
     "output_type": "execute_result"
    }
   ],
   "source": [
    "clf.fit(list(X_train),y_train)"
   ]
  },
  {
   "cell_type": "code",
   "execution_count": 39,
   "id": "39c2b6e4",
   "metadata": {},
   "outputs": [
    {
     "name": "stdout",
     "output_type": "stream",
     "text": [
      " Accuracy 0.8762\n",
      " Precision 0.8791 \n",
      " Recall 0.8735 \n",
      " F1 0.8763\n"
     ]
    }
   ],
   "source": [
    "y_pred = clf.predict(list(X_test))\n",
    "#Confusion Matrix\n",
    "clf_tn, clf_fp, clf_fn, clf_tp = confusion_matrix(y_test, y_pred).ravel()\n",
    "#measurements\n",
    "clf_accuracy = (clf_tp+clf_tn)/(clf_tp+clf_tn+clf_fp+clf_fn)\n",
    "print(\" Accuracy\", round(clf_accuracy,4))\n",
    "clf_precision = clf_tp/(clf_tp+clf_fp)\n",
    "clf_recall = clf_tp/(clf_tp+clf_fn)\n",
    "clf_f1_score = (2*clf_precision)*(clf_recall)/(clf_precision+clf_recall)\n",
    "print(\" Precision\",round(clf_precision,4),\"\\n\",\"Recall\",round(clf_recall,4),\"\\n\",\"F1\",round(clf_f1_score,4))"
   ]
  },
  {
   "cell_type": "markdown",
   "id": "60e05e16",
   "metadata": {},
   "source": [
    "Results looks promising. Let us finetune"
   ]
  },
  {
   "cell_type": "code",
   "execution_count": 42,
   "id": "2295caa8",
   "metadata": {},
   "outputs": [],
   "source": [
    "param_grid = {'n_estimators':[100,200,300]}\n",
    "gs_clf=RandomForestClassifier(max_depth=7,min_samples_split= 4, min_samples_leaf=1, random_state=0)\n",
    "clf = RandomizedSearchCV(gs_clf, param_grid, cv=5,n_jobs=-1, random_state=0)"
   ]
  },
  {
   "cell_type": "code",
   "execution_count": 43,
   "id": "1cb9f528",
   "metadata": {},
   "outputs": [
    {
     "name": "stderr",
     "output_type": "stream",
     "text": [
      "/common/home/projectgrps/IS424/IS424G10/jupyterlab-venv-tf/lib/python3.7/site-packages/sklearn/model_selection/_search.py:296: UserWarning: The total space of parameters 3 is smaller than n_iter=10. Running 3 iterations. For exhaustive searches, use GridSearchCV.\n",
      "  UserWarning,\n"
     ]
    },
    {
     "data": {
      "text/plain": [
       "RandomizedSearchCV(cv=5,\n",
       "                   estimator=RandomForestClassifier(max_depth=7,\n",
       "                                                    min_samples_split=4,\n",
       "                                                    random_state=0),\n",
       "                   n_jobs=-1,\n",
       "                   param_distributions={'n_estimators': [100, 200, 300]},\n",
       "                   random_state=0)"
      ]
     },
     "execution_count": 43,
     "metadata": {},
     "output_type": "execute_result"
    }
   ],
   "source": [
    "clf.fit(list(X_train),y_train)"
   ]
  },
  {
   "cell_type": "code",
   "execution_count": 45,
   "id": "e2f9eb42",
   "metadata": {},
   "outputs": [
    {
     "data": {
      "text/plain": [
       "{'n_estimators': 300}"
      ]
     },
     "execution_count": 45,
     "metadata": {},
     "output_type": "execute_result"
    }
   ],
   "source": [
    "clf.best_params_"
   ]
  },
  {
   "cell_type": "code",
   "execution_count": 47,
   "id": "7c234258",
   "metadata": {},
   "outputs": [
    {
     "data": {
      "text/plain": [
       "RandomForestClassifier(max_depth=7, min_samples_split=4, n_estimators=300,\n",
       "                       random_state=0)"
      ]
     },
     "execution_count": 47,
     "metadata": {},
     "output_type": "execute_result"
    }
   ],
   "source": [
    "clf = RandomForestClassifier(n_estimators=300,max_depth=7,min_samples_split= 4, min_samples_leaf=1, random_state=0)\n",
    "clf.fit(list(X_train),y_train)"
   ]
  },
  {
   "cell_type": "code",
   "execution_count": 48,
   "id": "03d2f9f8",
   "metadata": {},
   "outputs": [
    {
     "name": "stdout",
     "output_type": "stream",
     "text": [
      " Accuracy 0.8769\n",
      " Precision 0.8799 \n",
      " Recall 0.8741 \n",
      " F1 0.877\n"
     ]
    }
   ],
   "source": [
    "y_pred = clf.predict(list(X_test))\n",
    "#Confusion Matrix\n",
    "clf_tn, clf_fp, clf_fn, clf_tp = confusion_matrix(y_test, y_pred).ravel()\n",
    "#measurements\n",
    "clf_accuracy = (clf_tp+clf_tn)/(clf_tp+clf_tn+clf_fp+clf_fn)\n",
    "print(\" Accuracy\", round(clf_accuracy,4))\n",
    "clf_precision = clf_tp/(clf_tp+clf_fp)\n",
    "clf_recall = clf_tp/(clf_tp+clf_fn)\n",
    "clf_f1_score = (2*clf_precision)*(clf_recall)/(clf_precision+clf_recall)\n",
    "print(\" Precision\",round(clf_precision,4),\"\\n\",\"Recall\",round(clf_recall,4),\"\\n\",\"F1\",round(clf_f1_score,4))"
   ]
  }
 ],
 "metadata": {
  "kernelspec": {
   "display_name": "Python 3 (ipykernel)",
   "language": "python",
   "name": "python3"
  },
  "language_info": {
   "codemirror_mode": {
    "name": "ipython",
    "version": 3
   },
   "file_extension": ".py",
   "mimetype": "text/x-python",
   "name": "python",
   "nbconvert_exporter": "python",
   "pygments_lexer": "ipython3",
   "version": "3.7.13"
  }
 },
 "nbformat": 4,
 "nbformat_minor": 5
}
